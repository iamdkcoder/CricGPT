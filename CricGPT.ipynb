{
  "nbformat": 4,
  "nbformat_minor": 0,
  "metadata": {
    "colab": {
      "provenance": []
    },
    "kernelspec": {
      "name": "python3",
      "display_name": "Python 3"
    },
    "language_info": {
      "name": "python"
    }
  },
  "cells": [
    {
      "cell_type": "code",
      "source": [],
      "metadata": {
        "id": "_Z5fTU3qHOtJ"
      },
      "execution_count": null,
      "outputs": []
    },
    {
      "cell_type": "markdown",
      "source": [
        "#Installing dependencies for web scraping"
      ],
      "metadata": {
        "id": "Y6iD8G4VHVoV"
      }
    },
    {
      "cell_type": "code",
      "source": [
        "!pip install beautifulsoup4\n",
        "!pip install requests\n"
      ],
      "metadata": {
        "colab": {
          "base_uri": "https://localhost:8080/"
        },
        "id": "eUnjyx2o08D6",
        "outputId": "83da3f79-cf69-4756-fcb5-191b69c0b60d"
      },
      "execution_count": null,
      "outputs": [
        {
          "output_type": "stream",
          "name": "stdout",
          "text": [
            "Requirement already satisfied: beautifulsoup4 in /usr/local/lib/python3.10/dist-packages (4.11.2)\n",
            "Requirement already satisfied: soupsieve>1.2 in /usr/local/lib/python3.10/dist-packages (from beautifulsoup4) (2.5)\n",
            "Requirement already satisfied: requests in /usr/local/lib/python3.10/dist-packages (2.31.0)\n",
            "Requirement already satisfied: charset-normalizer<4,>=2 in /usr/local/lib/python3.10/dist-packages (from requests) (3.3.2)\n",
            "Requirement already satisfied: idna<4,>=2.5 in /usr/local/lib/python3.10/dist-packages (from requests) (3.4)\n",
            "Requirement already satisfied: urllib3<3,>=1.21.1 in /usr/local/lib/python3.10/dist-packages (from requests) (2.0.7)\n",
            "Requirement already satisfied: certifi>=2017.4.17 in /usr/local/lib/python3.10/dist-packages (from requests) (2023.7.22)\n"
          ]
        }
      ]
    },
    {
      "cell_type": "code",
      "source": [
        "import requests\n",
        "from bs4 import BeautifulSoup\n",
        "import pandas as pd\n",
        "import numpy as np\n",
        "import os"
      ],
      "metadata": {
        "id": "fRX0BbYfF51t"
      },
      "execution_count": null,
      "outputs": []
    },
    {
      "cell_type": "markdown",
      "source": [
        "# We choose 15 Indian players whose data will be used as a knowledge base"
      ],
      "metadata": {
        "id": "gpr2m88hHfEE"
      }
    },
    {
      "cell_type": "code",
      "source": [
        "PLAYERS = \"rg Sharma, Shubman Gill, Virat Kohli, Shreyas Iyer, KL Rahul, Ishan Kishan, Suryakumar Yadav, Hardik Pandya, Ravindra Jadeja, Axar Patel, Shardul Thakur, Jasprit Bumrah, Kuldeep Yadav, Mohammed Shami, Mohammed Siraj\"\n",
        "\n",
        "players= PLAYERS.split(\", \")\n",
        "players"
      ],
      "metadata": {
        "colab": {
          "base_uri": "https://localhost:8080/"
        },
        "id": "kIYv5Ayz0SjQ",
        "outputId": "bf57a8bd-b497-4471-8450-b842860573cd"
      },
      "execution_count": null,
      "outputs": [
        {
          "output_type": "execute_result",
          "data": {
            "text/plain": [
              "['rg Sharma',\n",
              " 'Shubman Gill',\n",
              " 'Virat Kohli',\n",
              " 'Shreyas Iyer',\n",
              " 'KL Rahul',\n",
              " 'Ishan Kishan',\n",
              " 'Suryakumar Yadav',\n",
              " 'Hardik Pandya',\n",
              " 'Ravindra Jadeja',\n",
              " 'Axar Patel',\n",
              " 'Shardul Thakur',\n",
              " 'Jasprit Bumrah',\n",
              " 'Kuldeep Yadav',\n",
              " 'Mohammed Shami',\n",
              " 'Mohammed Siraj']"
            ]
          },
          "metadata": {},
          "execution_count": 3
        }
      ]
    },
    {
      "cell_type": "markdown",
      "source": [
        "Function for retrieving player id using player name, this is required for accessing players portfolio on espncricinfo"
      ],
      "metadata": {
        "id": "8JkoacTFH2SY"
      }
    },
    {
      "cell_type": "code",
      "source": [
        "def getPlayerID(players:list[str]):\n",
        "  playerNameId ={}\n",
        "  for player in players:\n",
        "    url = \"http://search.espncricinfo.com/ci/content/player/search.html?search=\" + player.lower().replace(\" \",\"+\") + \"&x=0&y=0\"\n",
        "    page = requests.get(url)\n",
        "    soup = BeautifulSoup(page.content, \"html.parser\")\n",
        "    player_id = str(soup.find_all(class_='ColumnistSmry')[0]).split('.html')[0].split('/')[-1]\n",
        "    playerNameId[player_id]=player\n",
        "  return playerNameId"
      ],
      "metadata": {
        "id": "SeE8ccPs0X3z"
      },
      "execution_count": null,
      "outputs": []
    },
    {
      "cell_type": "code",
      "source": [
        "playerData = getPlayerID(players)"
      ],
      "metadata": {
        "id": "OSZOZH410am6"
      },
      "execution_count": null,
      "outputs": []
    },
    {
      "cell_type": "code",
      "source": [
        "print(playerData)"
      ],
      "metadata": {
        "colab": {
          "base_uri": "https://localhost:8080/"
        },
        "id": "qLrGI5XNMOoC",
        "outputId": "8b16810c-6006-4b71-e24d-75676583e1c8"
      },
      "execution_count": null,
      "outputs": [
        {
          "output_type": "stream",
          "name": "stdout",
          "text": [
            "{'34102': 'rg Sharma', '1070173': 'Shubman Gill', '253802': 'Virat Kohli', '642519': 'Shreyas Iyer', '422108': 'KL Rahul', '720471': 'Ishan Kishan', '446507': 'Suryakumar Yadav', '625371': 'Hardik Pandya', '234675': 'Ravindra Jadeja', '554691': 'Axar Patel', '475281': 'Shardul Thakur', '625383': 'Jasprit Bumrah', '559235': 'Kuldeep Yadav', '481896': 'Mohammed Shami', '940973': 'Mohammed Siraj'}\n"
          ]
        }
      ]
    },
    {
      "cell_type": "markdown",
      "source": [
        "\n",
        "\n",
        "```\n",
        "{'rg Sharma': '34102',\n",
        " 'Shubman Gill': '1070173',\n",
        " 'Virat Kohli': '253802',\n",
        " 'Shreyas Iyer': '642519',\n",
        " 'KL Rahul': '422108',\n",
        " 'Ishan Kishan': '720471',\n",
        " 'Suryakumar Yadav': '446507',\n",
        " 'Hardik Pandya': '625371',\n",
        " 'Ravindra Jadeja': '234675',\n",
        " 'Axar Patel': '554691',\n",
        " 'Shardul Thakur': '475281',\n",
        " 'Jasprit Bumrah': '625383',\n",
        " 'Kuldeep Yadav': '559235',\n",
        " 'Mohammed Shami': '481896',\n",
        " 'Mohammed Siraj': '940973'}\n",
        "```\n",
        "\n"
      ],
      "metadata": {
        "id": "-EK88C2B0co5"
      }
    },
    {
      "cell_type": "markdown",
      "source": [
        "The API needs to be mapped with the descriptive Heading"
      ],
      "metadata": {
        "id": "6BdCsHdFIIrQ"
      }
    },
    {
      "cell_type": "code",
      "source": [
        "mapping = {\n",
        "    'tt': 'Title',\n",
        "    'sp': 'Career_Span',\n",
        "    'mt': 'Matches',\n",
        "    'rn': 'Runs',\n",
        "    'wk': 'Wickets',\n",
        "    'ct': 'Catches_taken',\n",
        "    'st': 'Stumpings',\n",
        "    'fw': 'Five_Wickets_in_inning',\n",
        "    'hs': 'Highest_Score',\n",
        "    'hn': 'Hundreds',\n",
        "    'bbi': 'Best_Bowling_in_Inning',\n",
        "    'bta': 'Batting_Average',\n",
        "    'bwa': 'Bowling_Average',\n",
        "}"
      ],
      "metadata": {
        "id": "wj8-iCJnQXIv"
      },
      "execution_count": null,
      "outputs": []
    },
    {
      "cell_type": "markdown",
      "source": [
        "# This will create each players folder with their statistic in csv format"
      ],
      "metadata": {
        "id": "jKk_mQnvPx8M"
      }
    },
    {
      "cell_type": "code",
      "source": [
        "for player in playerData.keys():\n",
        "  url=f\"https://hs-consumer-api.espncricinfo.com/v1/pages/player/stats/summary?playerId={player}&recordClassId=11&type=ALLROUND\"\n",
        "  print(url)\n",
        "  response=requests.get(url).json()\n",
        "  data_needed= ['CAREER_AVERAGES', 'CLASS' , 'OPPOSITION_TEAM','HOST_COUNTRY','HOME_OR_AWAY','CAPTAIN']\n",
        "  folder_path = f'/content/playerdata/{playerData[player].replace(\" \" , \"_\")}'  # Replace with your desired folder path\n",
        "  os.makedirs(folder_path, exist_ok=True)\n",
        "  for group in response['summary']['groups']:\n",
        "    print(group['type'])\n",
        "    if group['type'] in data_needed:\n",
        "      df = pd.DataFrame()\n",
        "      for stats in group['stats']:\n",
        "          if df.empty:\n",
        "              df=pd.DataFrame({mapping.get(key, key): [value] if value is not None else 0 for key, value in stats.items()})\n",
        "          else:\n",
        "              df.loc[len(df)] = [0 if val is None or val == '-' else val for val in stats.values()]\n",
        "      df.drop(labels=['pr', 'bbad'], axis=1, inplace=True)\n",
        "      df['Player_Id']= player\n",
        "      if group['type']=='OPPOSITION_TEAM':\n",
        "        df['Title'] = df['Title'].str.split('v').str[1].str.strip()\n",
        "      csv_file_path = os.path.join(folder_path, f'{playerData[player].replace(\" \" , \"_\")}_{group[\"type\"].lower()}.csv')\n",
        "      df.to_csv(csv_file_path, index=False)"
      ],
      "metadata": {
        "id": "kK3gDAUZJykF"
      },
      "execution_count": null,
      "outputs": []
    },
    {
      "cell_type": "markdown",
      "source": [
        "##Player personal Data"
      ],
      "metadata": {
        "id": "enCksGyYTIZ5"
      }
    },
    {
      "cell_type": "code",
      "source": [
        "players_dataframe = pd.DataFrame()"
      ],
      "metadata": {
        "id": "3C0hJaWXzYaO"
      },
      "execution_count": null,
      "outputs": []
    },
    {
      "cell_type": "code",
      "source": [
        "base_url = 'https://hs-consumer-api.espncricinfo.com/v1/pages/player/home?playerId='\n",
        "\n",
        "for player_id in playerData.keys():\n",
        "    response = requests.get(base_url + str(player_id))\n",
        "    response = response.json()\n",
        "    BattingStyle=\"He does not bat.\" if not len(response['player']['longBattingStyles']) else str(','.join(response['player']['longBattingStyles']))\n",
        "    BowlingStyle= \"He does not bowl.\" if not len(response['player']['longBowlingStyles']) else str(','.join(response['player']['longBowlingStyles']))\n",
        "    WicketKeeperStyle= \"He is not wicket-keeper.\" if not len(response['player']['fieldingStyles']) else str(','.join(response['player']['fieldingStyles']))\n",
        "    if players_dataframe.empty:\n",
        "        players_dataframe = pd.DataFrame({\n",
        "            'Player_Id': [response['player']['objectId']],\n",
        "            'Name': [response['player']['longName']],\n",
        "            'DOB': ['-'.join([\n",
        "                str(response['player']['dateOfBirth']['date']).rjust(2, '0'),\n",
        "                str(response['player']['dateOfBirth']['month']).rjust(2, '0'),\n",
        "                str(response['player']['dateOfBirth']['year']).rjust(2, '0')\n",
        "            ])],\n",
        "            'Batting_Styles': BattingStyle,\n",
        "            'Bowling_Styles': BowlingStyle,\n",
        "            'Wicket_Keeper_Styles': WicketKeeperStyle,\n",
        "            'Playing_Roles': [','.join(response['player']['playingRoles'])],\n",
        "            'Profile': [' '.join([entry['html'] for entry in response['content']['profile']['items']])]\n",
        "\n",
        "        })\n",
        "    else:\n",
        "        players_dataframe.loc[len(players_dataframe)] = [\n",
        "            response['player']['objectId'],\n",
        "            response['player']['fullName'],\n",
        "            '-'.join([\n",
        "                str(response['player']['dateOfBirth']['date']).rjust(2, '0'),\n",
        "                str(response['player']['dateOfBirth']['month']).rjust(2, '0'),\n",
        "                str(response['player']['dateOfBirth']['year']).rjust(2, '0')\n",
        "            ]),BattingStyle,BowlingStyle,WicketKeeperStyle\n",
        "            ,\n",
        "            ','.join(response['player']['playingRoles']),\n",
        "            ' '.join([entry['html'] for entry in response['content']['profile']['items']])\n",
        "        ]"
      ],
      "metadata": {
        "id": "NEZl66qtyc6I"
      },
      "execution_count": null,
      "outputs": []
    },
    {
      "cell_type": "code",
      "source": [
        "players_dataframe"
      ],
      "metadata": {
        "colab": {
          "base_uri": "https://localhost:8080/",
          "height": 1000
        },
        "id": "61jwjyiWo_YB",
        "outputId": "0f1ba7cc-3c59-4373-9f1c-11a04ec859ff"
      },
      "execution_count": null,
      "outputs": [
        {
          "output_type": "execute_result",
          "data": {
            "text/plain": [
              "    Player_Id                              Name         DOB  Batting_Styles  \\\n",
              "0       34102                      Rohit Sharma  30-04-1987  right-hand bat   \n",
              "1     1070173                      Shubman Gill  08-09-1999  right-hand bat   \n",
              "2      253802                       Virat Kohli  05-11-1988  right-hand bat   \n",
              "3      642519              Shreyas Santosh Iyer  06-12-1994  right-hand bat   \n",
              "4      422108              Kannaur Lokesh Rahul  18-04-1992  right-hand bat   \n",
              "5      720471  Ishan Pranav Kumar Pandey Kishan  18-07-1998   left-hand bat   \n",
              "6      446507            Suryakumar Ashok Yadav  14-09-1990  right-hand bat   \n",
              "7      625371            Hardik Himanshu Pandya  11-10-1993  right-hand bat   \n",
              "8      234675   Ravindrasinh Anirudhsinh Jadeja  06-12-1988   left-hand bat   \n",
              "9      554691             Axar Rajeshbhai Patel  20-01-1994   left-hand bat   \n",
              "10     475281           Shardul Narendra Thakur  16-10-1991  right-hand bat   \n",
              "11     625383        Jasprit Jasbirsingh Bumrah  06-12-1993  right-hand bat   \n",
              "12     559235                     Kuldeep Yadav  14-12-1994   left-hand bat   \n",
              "13     481896              Mohammed Shami Ahmed  03-09-1990  right-hand bat   \n",
              "14     940973                    Mohammed Siraj  13-03-1994  right-hand bat   \n",
              "\n",
              "                         Bowling_Styles      Wicket_Keeper_Styles  \\\n",
              "0                    right-arm offbreak  He is not wicket-keeper.   \n",
              "1                    right-arm offbreak  He is not wicket-keeper.   \n",
              "2                      right-arm medium  He is not wicket-keeper.   \n",
              "3    right-arm offbreak,legbreak googly  He is not wicket-keeper.   \n",
              "4                     He does not bowl.              wicketkeeper   \n",
              "5                     He does not bowl.              wicketkeeper   \n",
              "6   right-arm medium,right-arm offbreak  He is not wicket-keeper.   \n",
              "7                 right-arm medium-fast  He is not wicket-keeper.   \n",
              "8                slow left-arm orthodox  He is not wicket-keeper.   \n",
              "9                slow left-arm orthodox  He is not wicket-keeper.   \n",
              "10                     right-arm medium  He is not wicket-keeper.   \n",
              "11                       right-arm fast  He is not wicket-keeper.   \n",
              "12                  left-arm wrist-spin  He is not wicket-keeper.   \n",
              "13                       right-arm fast  He is not wicket-keeper.   \n",
              "14                       right-arm fast  He is not wicket-keeper.   \n",
              "\n",
              "          Playing_Roles                                            Profile  \n",
              "0      top-order batter  Languid and easy on the eye, Rohit Sharma owne...  \n",
              "1        opening batter  A right-hand top-order batsman from Punjab, Sh...  \n",
              "2      top-order batter  India has given to the world many a great cric...  \n",
              "3      top-order batter  Shreyas Iyer is an attacking top-order batter ...  \n",
              "4   wicketkeeper batter  A tall, elegant right-hand batsman who can kee...  \n",
              "5   wicketkeeper batter  A wicketkeeper and left-handed opening batsman...  \n",
              "6                batter  Hard-hitting 360-degree batter Suryakumar Yada...  \n",
              "7            allrounder  Allrounder Hardik Pandya's calling cards brisk...  \n",
              "8            allrounder  Dissed when he first appeared, Ravindra Jadeja...  \n",
              "9    bowling allrounder  Left-arm spinner Axar Patel has been increasin...  \n",
              "10               bowler  An aggressive quick bowler, who can swing the ...  \n",
              "11               bowler  Jasprit Bumrah grabbed eyeballs first with his...  \n",
              "12               bowler  Kuldeep Yadav started as a fast bowler when he...  \n",
              "13               bowler  Mohammed Shami was India's leading fast bowler...  \n",
              "14               bowler  Mohammed Siraj's rise as a seamer was remarkab...  "
            ],
            "text/html": [
              "\n",
              "  <div id=\"df-c5fd47e6-10c1-4a40-8966-3247908f1019\" class=\"colab-df-container\">\n",
              "    <div>\n",
              "<style scoped>\n",
              "    .dataframe tbody tr th:only-of-type {\n",
              "        vertical-align: middle;\n",
              "    }\n",
              "\n",
              "    .dataframe tbody tr th {\n",
              "        vertical-align: top;\n",
              "    }\n",
              "\n",
              "    .dataframe thead th {\n",
              "        text-align: right;\n",
              "    }\n",
              "</style>\n",
              "<table border=\"1\" class=\"dataframe\">\n",
              "  <thead>\n",
              "    <tr style=\"text-align: right;\">\n",
              "      <th></th>\n",
              "      <th>Player_Id</th>\n",
              "      <th>Name</th>\n",
              "      <th>DOB</th>\n",
              "      <th>Batting_Styles</th>\n",
              "      <th>Bowling_Styles</th>\n",
              "      <th>Wicket_Keeper_Styles</th>\n",
              "      <th>Playing_Roles</th>\n",
              "      <th>Profile</th>\n",
              "    </tr>\n",
              "  </thead>\n",
              "  <tbody>\n",
              "    <tr>\n",
              "      <th>0</th>\n",
              "      <td>34102</td>\n",
              "      <td>Rohit Sharma</td>\n",
              "      <td>30-04-1987</td>\n",
              "      <td>right-hand bat</td>\n",
              "      <td>right-arm offbreak</td>\n",
              "      <td>He is not wicket-keeper.</td>\n",
              "      <td>top-order batter</td>\n",
              "      <td>Languid and easy on the eye, Rohit Sharma owne...</td>\n",
              "    </tr>\n",
              "    <tr>\n",
              "      <th>1</th>\n",
              "      <td>1070173</td>\n",
              "      <td>Shubman Gill</td>\n",
              "      <td>08-09-1999</td>\n",
              "      <td>right-hand bat</td>\n",
              "      <td>right-arm offbreak</td>\n",
              "      <td>He is not wicket-keeper.</td>\n",
              "      <td>opening batter</td>\n",
              "      <td>A right-hand top-order batsman from Punjab, Sh...</td>\n",
              "    </tr>\n",
              "    <tr>\n",
              "      <th>2</th>\n",
              "      <td>253802</td>\n",
              "      <td>Virat Kohli</td>\n",
              "      <td>05-11-1988</td>\n",
              "      <td>right-hand bat</td>\n",
              "      <td>right-arm medium</td>\n",
              "      <td>He is not wicket-keeper.</td>\n",
              "      <td>top-order batter</td>\n",
              "      <td>India has given to the world many a great cric...</td>\n",
              "    </tr>\n",
              "    <tr>\n",
              "      <th>3</th>\n",
              "      <td>642519</td>\n",
              "      <td>Shreyas Santosh Iyer</td>\n",
              "      <td>06-12-1994</td>\n",
              "      <td>right-hand bat</td>\n",
              "      <td>right-arm offbreak,legbreak googly</td>\n",
              "      <td>He is not wicket-keeper.</td>\n",
              "      <td>top-order batter</td>\n",
              "      <td>Shreyas Iyer is an attacking top-order batter ...</td>\n",
              "    </tr>\n",
              "    <tr>\n",
              "      <th>4</th>\n",
              "      <td>422108</td>\n",
              "      <td>Kannaur Lokesh Rahul</td>\n",
              "      <td>18-04-1992</td>\n",
              "      <td>right-hand bat</td>\n",
              "      <td>He does not bowl.</td>\n",
              "      <td>wicketkeeper</td>\n",
              "      <td>wicketkeeper batter</td>\n",
              "      <td>A tall, elegant right-hand batsman who can kee...</td>\n",
              "    </tr>\n",
              "    <tr>\n",
              "      <th>5</th>\n",
              "      <td>720471</td>\n",
              "      <td>Ishan Pranav Kumar Pandey Kishan</td>\n",
              "      <td>18-07-1998</td>\n",
              "      <td>left-hand bat</td>\n",
              "      <td>He does not bowl.</td>\n",
              "      <td>wicketkeeper</td>\n",
              "      <td>wicketkeeper batter</td>\n",
              "      <td>A wicketkeeper and left-handed opening batsman...</td>\n",
              "    </tr>\n",
              "    <tr>\n",
              "      <th>6</th>\n",
              "      <td>446507</td>\n",
              "      <td>Suryakumar Ashok Yadav</td>\n",
              "      <td>14-09-1990</td>\n",
              "      <td>right-hand bat</td>\n",
              "      <td>right-arm medium,right-arm offbreak</td>\n",
              "      <td>He is not wicket-keeper.</td>\n",
              "      <td>batter</td>\n",
              "      <td>Hard-hitting 360-degree batter Suryakumar Yada...</td>\n",
              "    </tr>\n",
              "    <tr>\n",
              "      <th>7</th>\n",
              "      <td>625371</td>\n",
              "      <td>Hardik Himanshu Pandya</td>\n",
              "      <td>11-10-1993</td>\n",
              "      <td>right-hand bat</td>\n",
              "      <td>right-arm medium-fast</td>\n",
              "      <td>He is not wicket-keeper.</td>\n",
              "      <td>allrounder</td>\n",
              "      <td>Allrounder Hardik Pandya's calling cards brisk...</td>\n",
              "    </tr>\n",
              "    <tr>\n",
              "      <th>8</th>\n",
              "      <td>234675</td>\n",
              "      <td>Ravindrasinh Anirudhsinh Jadeja</td>\n",
              "      <td>06-12-1988</td>\n",
              "      <td>left-hand bat</td>\n",
              "      <td>slow left-arm orthodox</td>\n",
              "      <td>He is not wicket-keeper.</td>\n",
              "      <td>allrounder</td>\n",
              "      <td>Dissed when he first appeared, Ravindra Jadeja...</td>\n",
              "    </tr>\n",
              "    <tr>\n",
              "      <th>9</th>\n",
              "      <td>554691</td>\n",
              "      <td>Axar Rajeshbhai Patel</td>\n",
              "      <td>20-01-1994</td>\n",
              "      <td>left-hand bat</td>\n",
              "      <td>slow left-arm orthodox</td>\n",
              "      <td>He is not wicket-keeper.</td>\n",
              "      <td>bowling allrounder</td>\n",
              "      <td>Left-arm spinner Axar Patel has been increasin...</td>\n",
              "    </tr>\n",
              "    <tr>\n",
              "      <th>10</th>\n",
              "      <td>475281</td>\n",
              "      <td>Shardul Narendra Thakur</td>\n",
              "      <td>16-10-1991</td>\n",
              "      <td>right-hand bat</td>\n",
              "      <td>right-arm medium</td>\n",
              "      <td>He is not wicket-keeper.</td>\n",
              "      <td>bowler</td>\n",
              "      <td>An aggressive quick bowler, who can swing the ...</td>\n",
              "    </tr>\n",
              "    <tr>\n",
              "      <th>11</th>\n",
              "      <td>625383</td>\n",
              "      <td>Jasprit Jasbirsingh Bumrah</td>\n",
              "      <td>06-12-1993</td>\n",
              "      <td>right-hand bat</td>\n",
              "      <td>right-arm fast</td>\n",
              "      <td>He is not wicket-keeper.</td>\n",
              "      <td>bowler</td>\n",
              "      <td>Jasprit Bumrah grabbed eyeballs first with his...</td>\n",
              "    </tr>\n",
              "    <tr>\n",
              "      <th>12</th>\n",
              "      <td>559235</td>\n",
              "      <td>Kuldeep Yadav</td>\n",
              "      <td>14-12-1994</td>\n",
              "      <td>left-hand bat</td>\n",
              "      <td>left-arm wrist-spin</td>\n",
              "      <td>He is not wicket-keeper.</td>\n",
              "      <td>bowler</td>\n",
              "      <td>Kuldeep Yadav started as a fast bowler when he...</td>\n",
              "    </tr>\n",
              "    <tr>\n",
              "      <th>13</th>\n",
              "      <td>481896</td>\n",
              "      <td>Mohammed Shami Ahmed</td>\n",
              "      <td>03-09-1990</td>\n",
              "      <td>right-hand bat</td>\n",
              "      <td>right-arm fast</td>\n",
              "      <td>He is not wicket-keeper.</td>\n",
              "      <td>bowler</td>\n",
              "      <td>Mohammed Shami was India's leading fast bowler...</td>\n",
              "    </tr>\n",
              "    <tr>\n",
              "      <th>14</th>\n",
              "      <td>940973</td>\n",
              "      <td>Mohammed Siraj</td>\n",
              "      <td>13-03-1994</td>\n",
              "      <td>right-hand bat</td>\n",
              "      <td>right-arm fast</td>\n",
              "      <td>He is not wicket-keeper.</td>\n",
              "      <td>bowler</td>\n",
              "      <td>Mohammed Siraj's rise as a seamer was remarkab...</td>\n",
              "    </tr>\n",
              "  </tbody>\n",
              "</table>\n",
              "</div>\n",
              "    <div class=\"colab-df-buttons\">\n",
              "\n",
              "  <div class=\"colab-df-container\">\n",
              "    <button class=\"colab-df-convert\" onclick=\"convertToInteractive('df-c5fd47e6-10c1-4a40-8966-3247908f1019')\"\n",
              "            title=\"Convert this dataframe to an interactive table.\"\n",
              "            style=\"display:none;\">\n",
              "\n",
              "  <svg xmlns=\"http://www.w3.org/2000/svg\" height=\"24px\" viewBox=\"0 -960 960 960\">\n",
              "    <path d=\"M120-120v-720h720v720H120Zm60-500h600v-160H180v160Zm220 220h160v-160H400v160Zm0 220h160v-160H400v160ZM180-400h160v-160H180v160Zm440 0h160v-160H620v160ZM180-180h160v-160H180v160Zm440 0h160v-160H620v160Z\"/>\n",
              "  </svg>\n",
              "    </button>\n",
              "\n",
              "  <style>\n",
              "    .colab-df-container {\n",
              "      display:flex;\n",
              "      gap: 12px;\n",
              "    }\n",
              "\n",
              "    .colab-df-convert {\n",
              "      background-color: #E8F0FE;\n",
              "      border: none;\n",
              "      border-radius: 50%;\n",
              "      cursor: pointer;\n",
              "      display: none;\n",
              "      fill: #1967D2;\n",
              "      height: 32px;\n",
              "      padding: 0 0 0 0;\n",
              "      width: 32px;\n",
              "    }\n",
              "\n",
              "    .colab-df-convert:hover {\n",
              "      background-color: #E2EBFA;\n",
              "      box-shadow: 0px 1px 2px rgba(60, 64, 67, 0.3), 0px 1px 3px 1px rgba(60, 64, 67, 0.15);\n",
              "      fill: #174EA6;\n",
              "    }\n",
              "\n",
              "    .colab-df-buttons div {\n",
              "      margin-bottom: 4px;\n",
              "    }\n",
              "\n",
              "    [theme=dark] .colab-df-convert {\n",
              "      background-color: #3B4455;\n",
              "      fill: #D2E3FC;\n",
              "    }\n",
              "\n",
              "    [theme=dark] .colab-df-convert:hover {\n",
              "      background-color: #434B5C;\n",
              "      box-shadow: 0px 1px 3px 1px rgba(0, 0, 0, 0.15);\n",
              "      filter: drop-shadow(0px 1px 2px rgba(0, 0, 0, 0.3));\n",
              "      fill: #FFFFFF;\n",
              "    }\n",
              "  </style>\n",
              "\n",
              "    <script>\n",
              "      const buttonEl =\n",
              "        document.querySelector('#df-c5fd47e6-10c1-4a40-8966-3247908f1019 button.colab-df-convert');\n",
              "      buttonEl.style.display =\n",
              "        google.colab.kernel.accessAllowed ? 'block' : 'none';\n",
              "\n",
              "      async function convertToInteractive(key) {\n",
              "        const element = document.querySelector('#df-c5fd47e6-10c1-4a40-8966-3247908f1019');\n",
              "        const dataTable =\n",
              "          await google.colab.kernel.invokeFunction('convertToInteractive',\n",
              "                                                    [key], {});\n",
              "        if (!dataTable) return;\n",
              "\n",
              "        const docLinkHtml = 'Like what you see? Visit the ' +\n",
              "          '<a target=\"_blank\" href=https://colab.research.google.com/notebooks/data_table.ipynb>data table notebook</a>'\n",
              "          + ' to learn more about interactive tables.';\n",
              "        element.innerHTML = '';\n",
              "        dataTable['output_type'] = 'display_data';\n",
              "        await google.colab.output.renderOutput(dataTable, element);\n",
              "        const docLink = document.createElement('div');\n",
              "        docLink.innerHTML = docLinkHtml;\n",
              "        element.appendChild(docLink);\n",
              "      }\n",
              "    </script>\n",
              "  </div>\n",
              "\n",
              "\n",
              "<div id=\"df-b15b4fae-c01f-4b47-9a4b-b7e65d0639f7\">\n",
              "  <button class=\"colab-df-quickchart\" onclick=\"quickchart('df-b15b4fae-c01f-4b47-9a4b-b7e65d0639f7')\"\n",
              "            title=\"Suggest charts\"\n",
              "            style=\"display:none;\">\n",
              "\n",
              "<svg xmlns=\"http://www.w3.org/2000/svg\" height=\"24px\"viewBox=\"0 0 24 24\"\n",
              "     width=\"24px\">\n",
              "    <g>\n",
              "        <path d=\"M19 3H5c-1.1 0-2 .9-2 2v14c0 1.1.9 2 2 2h14c1.1 0 2-.9 2-2V5c0-1.1-.9-2-2-2zM9 17H7v-7h2v7zm4 0h-2V7h2v10zm4 0h-2v-4h2v4z\"/>\n",
              "    </g>\n",
              "</svg>\n",
              "  </button>\n",
              "\n",
              "<style>\n",
              "  .colab-df-quickchart {\n",
              "      --bg-color: #E8F0FE;\n",
              "      --fill-color: #1967D2;\n",
              "      --hover-bg-color: #E2EBFA;\n",
              "      --hover-fill-color: #174EA6;\n",
              "      --disabled-fill-color: #AAA;\n",
              "      --disabled-bg-color: #DDD;\n",
              "  }\n",
              "\n",
              "  [theme=dark] .colab-df-quickchart {\n",
              "      --bg-color: #3B4455;\n",
              "      --fill-color: #D2E3FC;\n",
              "      --hover-bg-color: #434B5C;\n",
              "      --hover-fill-color: #FFFFFF;\n",
              "      --disabled-bg-color: #3B4455;\n",
              "      --disabled-fill-color: #666;\n",
              "  }\n",
              "\n",
              "  .colab-df-quickchart {\n",
              "    background-color: var(--bg-color);\n",
              "    border: none;\n",
              "    border-radius: 50%;\n",
              "    cursor: pointer;\n",
              "    display: none;\n",
              "    fill: var(--fill-color);\n",
              "    height: 32px;\n",
              "    padding: 0;\n",
              "    width: 32px;\n",
              "  }\n",
              "\n",
              "  .colab-df-quickchart:hover {\n",
              "    background-color: var(--hover-bg-color);\n",
              "    box-shadow: 0 1px 2px rgba(60, 64, 67, 0.3), 0 1px 3px 1px rgba(60, 64, 67, 0.15);\n",
              "    fill: var(--button-hover-fill-color);\n",
              "  }\n",
              "\n",
              "  .colab-df-quickchart-complete:disabled,\n",
              "  .colab-df-quickchart-complete:disabled:hover {\n",
              "    background-color: var(--disabled-bg-color);\n",
              "    fill: var(--disabled-fill-color);\n",
              "    box-shadow: none;\n",
              "  }\n",
              "\n",
              "  .colab-df-spinner {\n",
              "    border: 2px solid var(--fill-color);\n",
              "    border-color: transparent;\n",
              "    border-bottom-color: var(--fill-color);\n",
              "    animation:\n",
              "      spin 1s steps(1) infinite;\n",
              "  }\n",
              "\n",
              "  @keyframes spin {\n",
              "    0% {\n",
              "      border-color: transparent;\n",
              "      border-bottom-color: var(--fill-color);\n",
              "      border-left-color: var(--fill-color);\n",
              "    }\n",
              "    20% {\n",
              "      border-color: transparent;\n",
              "      border-left-color: var(--fill-color);\n",
              "      border-top-color: var(--fill-color);\n",
              "    }\n",
              "    30% {\n",
              "      border-color: transparent;\n",
              "      border-left-color: var(--fill-color);\n",
              "      border-top-color: var(--fill-color);\n",
              "      border-right-color: var(--fill-color);\n",
              "    }\n",
              "    40% {\n",
              "      border-color: transparent;\n",
              "      border-right-color: var(--fill-color);\n",
              "      border-top-color: var(--fill-color);\n",
              "    }\n",
              "    60% {\n",
              "      border-color: transparent;\n",
              "      border-right-color: var(--fill-color);\n",
              "    }\n",
              "    80% {\n",
              "      border-color: transparent;\n",
              "      border-right-color: var(--fill-color);\n",
              "      border-bottom-color: var(--fill-color);\n",
              "    }\n",
              "    90% {\n",
              "      border-color: transparent;\n",
              "      border-bottom-color: var(--fill-color);\n",
              "    }\n",
              "  }\n",
              "</style>\n",
              "\n",
              "  <script>\n",
              "    async function quickchart(key) {\n",
              "      const quickchartButtonEl =\n",
              "        document.querySelector('#' + key + ' button');\n",
              "      quickchartButtonEl.disabled = true;  // To prevent multiple clicks.\n",
              "      quickchartButtonEl.classList.add('colab-df-spinner');\n",
              "      try {\n",
              "        const charts = await google.colab.kernel.invokeFunction(\n",
              "            'suggestCharts', [key], {});\n",
              "      } catch (error) {\n",
              "        console.error('Error during call to suggestCharts:', error);\n",
              "      }\n",
              "      quickchartButtonEl.classList.remove('colab-df-spinner');\n",
              "      quickchartButtonEl.classList.add('colab-df-quickchart-complete');\n",
              "    }\n",
              "    (() => {\n",
              "      let quickchartButtonEl =\n",
              "        document.querySelector('#df-b15b4fae-c01f-4b47-9a4b-b7e65d0639f7 button');\n",
              "      quickchartButtonEl.style.display =\n",
              "        google.colab.kernel.accessAllowed ? 'block' : 'none';\n",
              "    })();\n",
              "  </script>\n",
              "</div>\n",
              "    </div>\n",
              "  </div>\n"
            ]
          },
          "metadata": {},
          "execution_count": 23
        }
      ]
    },
    {
      "cell_type": "code",
      "source": [
        "players_dataframe.to_csv(\"/content/playerdata/players-data.csv\", index=False)"
      ],
      "metadata": {
        "id": "CQhJsFr8UGZL"
      },
      "execution_count": null,
      "outputs": []
    },
    {
      "cell_type": "code",
      "source": [
        "from google.colab import drive\n",
        "drive.mount('/content/drive')\n"
      ],
      "metadata": {
        "colab": {
          "base_uri": "https://localhost:8080/"
        },
        "id": "uITGPxwCncp7",
        "outputId": "15dff950-1d6c-4f24-9d61-c3c76670764f"
      },
      "execution_count": null,
      "outputs": [
        {
          "output_type": "stream",
          "name": "stdout",
          "text": [
            "Mounted at /content/drive\n"
          ]
        }
      ]
    },
    {
      "cell_type": "code",
      "source": [],
      "metadata": {
        "id": "6vYv2TPHQVl0"
      },
      "execution_count": null,
      "outputs": []
    },
    {
      "cell_type": "markdown",
      "source": [
        "This will create text file of each player with their information, this is used for RAG knowledge base"
      ],
      "metadata": {
        "id": "_fzoJod-QWaA"
      }
    },
    {
      "cell_type": "code",
      "source": [
        "import pandas as pd\n",
        "\n",
        "# Load player data CSV\n",
        "player_data = pd.read_csv('/content/playerdata/players-data.csv')\n",
        "\n",
        "# Iterate through each row in player_data\n",
        "for index, row in player_data.iterrows():\n",
        "    # Extract player information\n",
        "    id = row['Player_Id']\n",
        "    name = row['Name']\n",
        "    dob = row['DOB']\n",
        "    batting_styles = row['Batting_Styles']\n",
        "    bowling_styles = row['Bowling_Styles']\n",
        "    wicket_keeper_styles = row['Wicket_Keeper_Styles']\n",
        "    playing_roles = row['Playing_Roles']\n",
        "    profile = row['Profile']\n",
        "    os.makedirs('/content/playerchunks/', exist_ok=True)\n",
        "    # Create a text file for each player\n",
        "    with open(f'/content/playerchunks/{name.replace(\" \", \"_\")}.txt', 'w') as file:\n",
        "        file.write(f\"Following is the information of {name}\\n\")\n",
        "        file.write(f\"Name: {name}\\n\")\n",
        "        file.write(f\"Date of   : {dob}\\n\")\n",
        "        file.write(f\"Batting Styles: {batting_styles}\\n\")\n",
        "        file.write(f\"Bowling Styles: {bowling_styles}\\n\")\n",
        "        file.write(f\"Wicket Keeper Styles: {wicket_keeper_styles}\\n\")\n",
        "        file.write(f\"Playing Roles: {playing_roles}\\n\")\n",
        "        file.write(f\"Bio: {profile}\\n\\n\")\n",
        "\n",
        "        # Load career averages CSV for the player\n",
        "        file_name=playerData[str(id)].replace(\" \", \"_\")\n",
        "        career_averages = pd.read_csv(f'/content/playerdata/{file_name}/{file_name}_career_averages.csv')\n",
        "        Match_career_summary = pd.read_csv(f'/content/playerdata/{file_name}/{file_name}_class.csv')\n",
        "        Opposition_Team = pd.read_csv(f'/content/playerdata/{file_name}/{file_name}_opposition_team.csv')\n",
        "        Home_or_Away = pd.read_csv(f'/content/playerdata/{file_name}/{file_name}_home_or_away.csv')\n",
        "        Host_country = pd.read_csv(f'/content/playerdata/{file_name}/{file_name}_home_or_away.csv')\n",
        "        captain = pd.read_csv(f'/content/playerdata/{file_name}/{file_name}_captain.csv')\n",
        "\n",
        "\n",
        "        # Write career averages information to the text file\n",
        "\n",
        "        file.write(f\"Overall International Career Summary of {name}:\\n\")\n",
        "        for _, career_row in career_averages.iterrows():\n",
        "            for col, value in career_row.items():\n",
        "                file.write(f\"{col}: {value}\\n\")\n",
        "            file.write(\"\\n\")\n",
        "        file.write(f\"Match format wise career summary {name}:\\n\")\n",
        "        for _, career_row in Match_career_summary.iterrows():\n",
        "            file.write(f'Performace of {name} in {career_row.Title} match\\n')\n",
        "            for col, value in career_row.items():\n",
        "                if col==\"Title\":\n",
        "                  continue\n",
        "                else:\n",
        "                  file.write(f\"{col}: {value}\\n\")\n",
        "            file.write(\"\\n\")\n",
        "        file.write(f\"Performance of {name} against other teams :\\n\")\n",
        "        for _, career_row in Opposition_Team.iterrows():\n",
        "            # print(f'Performace of {name} against {career_row.Title}')\n",
        "            file.write(f'Performace of {name} against {career_row.Title}\\n')\n",
        "            for col, value in career_row.items():\n",
        "                if col==\"Title\":\n",
        "                  continue\n",
        "                else:\n",
        "                  file.write(f\"{col}: {value}\\n\")\n",
        "            file.write(\"\\n\")\n",
        "        file.write(f\"Performance of {name} in other host country :\\n\")\n",
        "        for _, career_row in Host_country.iterrows():\n",
        "            file.write(f'Performace of {name} in {career_row.Title} Host Country\\n')\n",
        "            for col, value in career_row.items():\n",
        "                if col==\"Title\":\n",
        "                  continue\n",
        "                else:\n",
        "                  file.write(f\"{col}: {value}\\n\")\n",
        "            file.write(\"\\n\")\n",
        "        file.write(f\"Performance of {name} in home vs away :\\n\")\n",
        "        for _, career_row in Home_or_Away.iterrows():\n",
        "            file.write(f'Performace of {name} in {career_row.Title} \\n')\n",
        "            for col, value in career_row.items():\n",
        "                if col==\"Title\":\n",
        "                  continue\n",
        "                else:\n",
        "                  file.write(f\"{col}: {value}\\n\")\n",
        "            file.write(\"\\n\")\n",
        "        file.write(f\"Performance of {name} when he was playing as a captain or not a captain :\\n\")\n",
        "        for _, career_row in captain.iterrows():\n",
        "            file.write(f'Performace of {name} when he  {career_row.Title} \\n')\n",
        "            for col, value in career_row.items():\n",
        "                if col==\"Title\":\n",
        "                  continue\n",
        "                else:\n",
        "                  file.write(f\"{col}: {value}\\n\")\n",
        "            file.write(\"\\n\")\n",
        "print(\"Text files created successfully.\")\n"
      ],
      "metadata": {
        "id": "BSIzfNKzVrgI"
      },
      "execution_count": null,
      "outputs": []
    },
    {
      "cell_type": "markdown",
      "source": [
        "## neo4j vector retriever"
      ],
      "metadata": {
        "id": "i2lzN7jO9YVA"
      }
    },
    {
      "cell_type": "code",
      "source": [
        "!pip install langchain neo4j\n",
        "!pip install \"shapely<2.0.0\"\n",
        "!pip install google-cloud-aiplatform --upgrade"
      ],
      "metadata": {
        "colab": {
          "base_uri": "https://localhost:8080/",
          "height": 1000
        },
        "id": "ifWkW7VE9fUy",
        "outputId": "75d26b8b-5f7a-4349-b02d-94de53b90529"
      },
      "execution_count": null,
      "outputs": [
        {
          "output_type": "stream",
          "name": "stdout",
          "text": [
            "Collecting langchain\n",
            "  Downloading langchain-0.0.335-py3-none-any.whl (2.0 MB)\n",
            "\u001b[2K     \u001b[90m━━━━━━━━━━━━━━━━━━━━━━━━━━━━━━━━━━━━━━━━\u001b[0m \u001b[32m2.0/2.0 MB\u001b[0m \u001b[31m16.0 MB/s\u001b[0m eta \u001b[36m0:00:00\u001b[0m\n",
            "\u001b[?25hCollecting neo4j\n",
            "  Downloading neo4j-5.14.1.tar.gz (192 kB)\n",
            "\u001b[2K     \u001b[90m━━━━━━━━━━━━━━━━━━━━━━━━━━━━━━━━━━━━━━━━\u001b[0m \u001b[32m192.8/192.8 kB\u001b[0m \u001b[31m18.7 MB/s\u001b[0m eta \u001b[36m0:00:00\u001b[0m\n",
            "\u001b[?25h  Installing build dependencies ... \u001b[?25l\u001b[?25hdone\n",
            "  Getting requirements to build wheel ... \u001b[?25l\u001b[?25hdone\n",
            "  Installing backend dependencies ... \u001b[?25l\u001b[?25hdone\n",
            "  Preparing metadata (pyproject.toml) ... \u001b[?25l\u001b[?25hdone\n",
            "Requirement already satisfied: PyYAML>=5.3 in /usr/local/lib/python3.10/dist-packages (from langchain) (6.0.1)\n",
            "Requirement already satisfied: SQLAlchemy<3,>=1.4 in /usr/local/lib/python3.10/dist-packages (from langchain) (2.0.23)\n",
            "Requirement already satisfied: aiohttp<4.0.0,>=3.8.3 in /usr/local/lib/python3.10/dist-packages (from langchain) (3.8.6)\n",
            "Requirement already satisfied: anyio<4.0 in /usr/local/lib/python3.10/dist-packages (from langchain) (3.7.1)\n",
            "Requirement already satisfied: async-timeout<5.0.0,>=4.0.0 in /usr/local/lib/python3.10/dist-packages (from langchain) (4.0.3)\n",
            "Collecting dataclasses-json<0.7,>=0.5.7 (from langchain)\n",
            "  Downloading dataclasses_json-0.6.2-py3-none-any.whl (28 kB)\n",
            "Collecting jsonpatch<2.0,>=1.33 (from langchain)\n",
            "  Downloading jsonpatch-1.33-py2.py3-none-any.whl (12 kB)\n",
            "Collecting langsmith<0.1.0,>=0.0.63 (from langchain)\n",
            "  Downloading langsmith-0.0.64-py3-none-any.whl (45 kB)\n",
            "\u001b[2K     \u001b[90m━━━━━━━━━━━━━━━━━━━━━━━━━━━━━━━━━━━━━━━━\u001b[0m \u001b[32m45.5/45.5 kB\u001b[0m \u001b[31m5.0 MB/s\u001b[0m eta \u001b[36m0:00:00\u001b[0m\n",
            "\u001b[?25hRequirement already satisfied: numpy<2,>=1 in /usr/local/lib/python3.10/dist-packages (from langchain) (1.23.5)\n",
            "Requirement already satisfied: pydantic<3,>=1 in /usr/local/lib/python3.10/dist-packages (from langchain) (1.10.13)\n",
            "Requirement already satisfied: requests<3,>=2 in /usr/local/lib/python3.10/dist-packages (from langchain) (2.31.0)\n",
            "Requirement already satisfied: tenacity<9.0.0,>=8.1.0 in /usr/local/lib/python3.10/dist-packages (from langchain) (8.2.3)\n",
            "Requirement already satisfied: pytz in /usr/local/lib/python3.10/dist-packages (from neo4j) (2023.3.post1)\n",
            "Requirement already satisfied: attrs>=17.3.0 in /usr/local/lib/python3.10/dist-packages (from aiohttp<4.0.0,>=3.8.3->langchain) (23.1.0)\n",
            "Requirement already satisfied: charset-normalizer<4.0,>=2.0 in /usr/local/lib/python3.10/dist-packages (from aiohttp<4.0.0,>=3.8.3->langchain) (3.3.2)\n",
            "Requirement already satisfied: multidict<7.0,>=4.5 in /usr/local/lib/python3.10/dist-packages (from aiohttp<4.0.0,>=3.8.3->langchain) (6.0.4)\n",
            "Requirement already satisfied: yarl<2.0,>=1.0 in /usr/local/lib/python3.10/dist-packages (from aiohttp<4.0.0,>=3.8.3->langchain) (1.9.2)\n",
            "Requirement already satisfied: frozenlist>=1.1.1 in /usr/local/lib/python3.10/dist-packages (from aiohttp<4.0.0,>=3.8.3->langchain) (1.4.0)\n",
            "Requirement already satisfied: aiosignal>=1.1.2 in /usr/local/lib/python3.10/dist-packages (from aiohttp<4.0.0,>=3.8.3->langchain) (1.3.1)\n",
            "Requirement already satisfied: idna>=2.8 in /usr/local/lib/python3.10/dist-packages (from anyio<4.0->langchain) (3.4)\n",
            "Requirement already satisfied: sniffio>=1.1 in /usr/local/lib/python3.10/dist-packages (from anyio<4.0->langchain) (1.3.0)\n",
            "Requirement already satisfied: exceptiongroup in /usr/local/lib/python3.10/dist-packages (from anyio<4.0->langchain) (1.1.3)\n",
            "Collecting marshmallow<4.0.0,>=3.18.0 (from dataclasses-json<0.7,>=0.5.7->langchain)\n",
            "  Downloading marshmallow-3.20.1-py3-none-any.whl (49 kB)\n",
            "\u001b[2K     \u001b[90m━━━━━━━━━━━━━━━━━━━━━━━━━━━━━━━━━━━━━━━━\u001b[0m \u001b[32m49.4/49.4 kB\u001b[0m \u001b[31m5.9 MB/s\u001b[0m eta \u001b[36m0:00:00\u001b[0m\n",
            "\u001b[?25hCollecting typing-inspect<1,>=0.4.0 (from dataclasses-json<0.7,>=0.5.7->langchain)\n",
            "  Downloading typing_inspect-0.9.0-py3-none-any.whl (8.8 kB)\n",
            "Collecting jsonpointer>=1.9 (from jsonpatch<2.0,>=1.33->langchain)\n",
            "  Downloading jsonpointer-2.4-py2.py3-none-any.whl (7.8 kB)\n",
            "Requirement already satisfied: typing-extensions>=4.2.0 in /usr/local/lib/python3.10/dist-packages (from pydantic<3,>=1->langchain) (4.5.0)\n",
            "Requirement already satisfied: urllib3<3,>=1.21.1 in /usr/local/lib/python3.10/dist-packages (from requests<3,>=2->langchain) (2.0.7)\n",
            "Requirement already satisfied: certifi>=2017.4.17 in /usr/local/lib/python3.10/dist-packages (from requests<3,>=2->langchain) (2023.7.22)\n",
            "Requirement already satisfied: greenlet!=0.4.17 in /usr/local/lib/python3.10/dist-packages (from SQLAlchemy<3,>=1.4->langchain) (3.0.1)\n",
            "Requirement already satisfied: packaging>=17.0 in /usr/local/lib/python3.10/dist-packages (from marshmallow<4.0.0,>=3.18.0->dataclasses-json<0.7,>=0.5.7->langchain) (23.2)\n",
            "Collecting mypy-extensions>=0.3.0 (from typing-inspect<1,>=0.4.0->dataclasses-json<0.7,>=0.5.7->langchain)\n",
            "  Downloading mypy_extensions-1.0.0-py3-none-any.whl (4.7 kB)\n",
            "Building wheels for collected packages: neo4j\n",
            "  Building wheel for neo4j (pyproject.toml) ... \u001b[?25l\u001b[?25hdone\n",
            "  Created wheel for neo4j: filename=neo4j-5.14.1-py3-none-any.whl size=267560 sha256=ffda179fe32468e9e374dc5f35bd113089244d14cabd1954ea7c21b8a48fa595\n",
            "  Stored in directory: /root/.cache/pip/wheels/13/01/ff/de2142e172dafcd475f118499db2140c66562e42fd500c460a\n",
            "Successfully built neo4j\n",
            "Installing collected packages: neo4j, mypy-extensions, marshmallow, jsonpointer, typing-inspect, langsmith, jsonpatch, dataclasses-json, langchain\n",
            "Successfully installed dataclasses-json-0.6.2 jsonpatch-1.33 jsonpointer-2.4 langchain-0.0.335 langsmith-0.0.64 marshmallow-3.20.1 mypy-extensions-1.0.0 neo4j-5.14.1 typing-inspect-0.9.0\n",
            "Collecting shapely<2.0.0\n",
            "  Downloading Shapely-1.8.5.post1-cp310-cp310-manylinux_2_12_x86_64.manylinux2010_x86_64.whl (2.0 MB)\n",
            "\u001b[2K     \u001b[90m━━━━━━━━━━━━━━━━━━━━━━━━━━━━━━━━━━━━━━━━\u001b[0m \u001b[32m2.0/2.0 MB\u001b[0m \u001b[31m17.2 MB/s\u001b[0m eta \u001b[36m0:00:00\u001b[0m\n",
            "\u001b[?25hInstalling collected packages: shapely\n",
            "  Attempting uninstall: shapely\n",
            "    Found existing installation: shapely 2.0.2\n",
            "    Uninstalling shapely-2.0.2:\n",
            "      Successfully uninstalled shapely-2.0.2\n",
            "\u001b[31mERROR: pip's dependency resolver does not currently take into account all the packages that are installed. This behaviour is the source of the following dependency conflicts.\n",
            "lida 0.0.10 requires fastapi, which is not installed.\n",
            "lida 0.0.10 requires kaleido, which is not installed.\n",
            "lida 0.0.10 requires python-multipart, which is not installed.\n",
            "lida 0.0.10 requires uvicorn, which is not installed.\u001b[0m\u001b[31m\n",
            "\u001b[0mSuccessfully installed shapely-1.8.5.post1\n",
            "Collecting google-cloud-aiplatform\n",
            "  Downloading google_cloud_aiplatform-1.36.2-py2.py3-none-any.whl (3.1 MB)\n",
            "\u001b[2K     \u001b[90m━━━━━━━━━━━━━━━━━━━━━━━━━━━━━━━━━━━━━━━━\u001b[0m \u001b[32m3.1/3.1 MB\u001b[0m \u001b[31m27.1 MB/s\u001b[0m eta \u001b[36m0:00:00\u001b[0m\n",
            "\u001b[?25hRequirement already satisfied: google-api-core[grpc]!=2.0.*,!=2.1.*,!=2.2.*,!=2.3.*,!=2.4.*,!=2.5.*,!=2.6.*,!=2.7.*,<3.0.0dev,>=1.32.0 in /usr/local/lib/python3.10/dist-packages (from google-cloud-aiplatform) (2.11.1)\n",
            "Requirement already satisfied: proto-plus<2.0.0dev,>=1.22.0 in /usr/local/lib/python3.10/dist-packages (from google-cloud-aiplatform) (1.22.3)\n",
            "Requirement already satisfied: protobuf!=3.20.0,!=3.20.1,!=4.21.0,!=4.21.1,!=4.21.2,!=4.21.3,!=4.21.4,!=4.21.5,<5.0.0dev,>=3.19.5 in /usr/local/lib/python3.10/dist-packages (from google-cloud-aiplatform) (3.20.3)\n",
            "Requirement already satisfied: packaging>=14.3 in /usr/local/lib/python3.10/dist-packages (from google-cloud-aiplatform) (23.2)\n",
            "Requirement already satisfied: google-cloud-storage<3.0.0dev,>=1.32.0 in /usr/local/lib/python3.10/dist-packages (from google-cloud-aiplatform) (2.8.0)\n",
            "Requirement already satisfied: google-cloud-bigquery<4.0.0dev,>=1.15.0 in /usr/local/lib/python3.10/dist-packages (from google-cloud-aiplatform) (3.12.0)\n",
            "Requirement already satisfied: google-cloud-resource-manager<3.0.0dev,>=1.3.3 in /usr/local/lib/python3.10/dist-packages (from google-cloud-aiplatform) (1.10.4)\n",
            "Requirement already satisfied: shapely<3.0.0dev in /usr/local/lib/python3.10/dist-packages (from google-cloud-aiplatform) (1.8.5.post1)\n",
            "Requirement already satisfied: googleapis-common-protos<2.0.dev0,>=1.56.2 in /usr/local/lib/python3.10/dist-packages (from google-api-core[grpc]!=2.0.*,!=2.1.*,!=2.2.*,!=2.3.*,!=2.4.*,!=2.5.*,!=2.6.*,!=2.7.*,<3.0.0dev,>=1.32.0->google-cloud-aiplatform) (1.61.0)\n",
            "Requirement already satisfied: google-auth<3.0.dev0,>=2.14.1 in /usr/local/lib/python3.10/dist-packages (from google-api-core[grpc]!=2.0.*,!=2.1.*,!=2.2.*,!=2.3.*,!=2.4.*,!=2.5.*,!=2.6.*,!=2.7.*,<3.0.0dev,>=1.32.0->google-cloud-aiplatform) (2.17.3)\n",
            "Requirement already satisfied: requests<3.0.0.dev0,>=2.18.0 in /usr/local/lib/python3.10/dist-packages (from google-api-core[grpc]!=2.0.*,!=2.1.*,!=2.2.*,!=2.3.*,!=2.4.*,!=2.5.*,!=2.6.*,!=2.7.*,<3.0.0dev,>=1.32.0->google-cloud-aiplatform) (2.31.0)\n",
            "Requirement already satisfied: grpcio<2.0dev,>=1.33.2 in /usr/local/lib/python3.10/dist-packages (from google-api-core[grpc]!=2.0.*,!=2.1.*,!=2.2.*,!=2.3.*,!=2.4.*,!=2.5.*,!=2.6.*,!=2.7.*,<3.0.0dev,>=1.32.0->google-cloud-aiplatform) (1.59.2)\n",
            "Requirement already satisfied: grpcio-status<2.0.dev0,>=1.33.2 in /usr/local/lib/python3.10/dist-packages (from google-api-core[grpc]!=2.0.*,!=2.1.*,!=2.2.*,!=2.3.*,!=2.4.*,!=2.5.*,!=2.6.*,!=2.7.*,<3.0.0dev,>=1.32.0->google-cloud-aiplatform) (1.48.2)\n",
            "Requirement already satisfied: google-cloud-core<3.0.0dev,>=1.6.0 in /usr/local/lib/python3.10/dist-packages (from google-cloud-bigquery<4.0.0dev,>=1.15.0->google-cloud-aiplatform) (2.3.3)\n",
            "Requirement already satisfied: google-resumable-media<3.0dev,>=0.6.0 in /usr/local/lib/python3.10/dist-packages (from google-cloud-bigquery<4.0.0dev,>=1.15.0->google-cloud-aiplatform) (2.6.0)\n",
            "Requirement already satisfied: python-dateutil<3.0dev,>=2.7.2 in /usr/local/lib/python3.10/dist-packages (from google-cloud-bigquery<4.0.0dev,>=1.15.0->google-cloud-aiplatform) (2.8.2)\n",
            "Requirement already satisfied: grpc-google-iam-v1<1.0.0dev,>=0.12.4 in /usr/local/lib/python3.10/dist-packages (from google-cloud-resource-manager<3.0.0dev,>=1.3.3->google-cloud-aiplatform) (0.12.6)\n",
            "Requirement already satisfied: cachetools<6.0,>=2.0.0 in /usr/local/lib/python3.10/dist-packages (from google-auth<3.0.dev0,>=2.14.1->google-api-core[grpc]!=2.0.*,!=2.1.*,!=2.2.*,!=2.3.*,!=2.4.*,!=2.5.*,!=2.6.*,!=2.7.*,<3.0.0dev,>=1.32.0->google-cloud-aiplatform) (5.3.2)\n",
            "Requirement already satisfied: pyasn1-modules>=0.2.1 in /usr/local/lib/python3.10/dist-packages (from google-auth<3.0.dev0,>=2.14.1->google-api-core[grpc]!=2.0.*,!=2.1.*,!=2.2.*,!=2.3.*,!=2.4.*,!=2.5.*,!=2.6.*,!=2.7.*,<3.0.0dev,>=1.32.0->google-cloud-aiplatform) (0.3.0)\n",
            "Requirement already satisfied: six>=1.9.0 in /usr/local/lib/python3.10/dist-packages (from google-auth<3.0.dev0,>=2.14.1->google-api-core[grpc]!=2.0.*,!=2.1.*,!=2.2.*,!=2.3.*,!=2.4.*,!=2.5.*,!=2.6.*,!=2.7.*,<3.0.0dev,>=1.32.0->google-cloud-aiplatform) (1.16.0)\n",
            "Requirement already satisfied: rsa<5,>=3.1.4 in /usr/local/lib/python3.10/dist-packages (from google-auth<3.0.dev0,>=2.14.1->google-api-core[grpc]!=2.0.*,!=2.1.*,!=2.2.*,!=2.3.*,!=2.4.*,!=2.5.*,!=2.6.*,!=2.7.*,<3.0.0dev,>=1.32.0->google-cloud-aiplatform) (4.9)\n",
            "Requirement already satisfied: google-crc32c<2.0dev,>=1.0 in /usr/local/lib/python3.10/dist-packages (from google-resumable-media<3.0dev,>=0.6.0->google-cloud-bigquery<4.0.0dev,>=1.15.0->google-cloud-aiplatform) (1.5.0)\n",
            "Requirement already satisfied: charset-normalizer<4,>=2 in /usr/local/lib/python3.10/dist-packages (from requests<3.0.0.dev0,>=2.18.0->google-api-core[grpc]!=2.0.*,!=2.1.*,!=2.2.*,!=2.3.*,!=2.4.*,!=2.5.*,!=2.6.*,!=2.7.*,<3.0.0dev,>=1.32.0->google-cloud-aiplatform) (3.3.2)\n",
            "Requirement already satisfied: idna<4,>=2.5 in /usr/local/lib/python3.10/dist-packages (from requests<3.0.0.dev0,>=2.18.0->google-api-core[grpc]!=2.0.*,!=2.1.*,!=2.2.*,!=2.3.*,!=2.4.*,!=2.5.*,!=2.6.*,!=2.7.*,<3.0.0dev,>=1.32.0->google-cloud-aiplatform) (3.4)\n",
            "Requirement already satisfied: urllib3<3,>=1.21.1 in /usr/local/lib/python3.10/dist-packages (from requests<3.0.0.dev0,>=2.18.0->google-api-core[grpc]!=2.0.*,!=2.1.*,!=2.2.*,!=2.3.*,!=2.4.*,!=2.5.*,!=2.6.*,!=2.7.*,<3.0.0dev,>=1.32.0->google-cloud-aiplatform) (2.0.7)\n",
            "Requirement already satisfied: certifi>=2017.4.17 in /usr/local/lib/python3.10/dist-packages (from requests<3.0.0.dev0,>=2.18.0->google-api-core[grpc]!=2.0.*,!=2.1.*,!=2.2.*,!=2.3.*,!=2.4.*,!=2.5.*,!=2.6.*,!=2.7.*,<3.0.0dev,>=1.32.0->google-cloud-aiplatform) (2023.7.22)\n",
            "Requirement already satisfied: pyasn1<0.6.0,>=0.4.6 in /usr/local/lib/python3.10/dist-packages (from pyasn1-modules>=0.2.1->google-auth<3.0.dev0,>=2.14.1->google-api-core[grpc]!=2.0.*,!=2.1.*,!=2.2.*,!=2.3.*,!=2.4.*,!=2.5.*,!=2.6.*,!=2.7.*,<3.0.0dev,>=1.32.0->google-cloud-aiplatform) (0.5.0)\n",
            "Installing collected packages: google-cloud-aiplatform\n",
            "Successfully installed google-cloud-aiplatform-1.36.2\n"
          ]
        },
        {
          "output_type": "display_data",
          "data": {
            "application/vnd.colab-display-data+json": {
              "pip_warning": {
                "packages": [
                  "google"
                ]
              }
            }
          },
          "metadata": {}
        }
      ]
    },
    {
      "cell_type": "markdown",
      "source": [
        "Create Google Cloud account with the same account you are currently using this colab notebook"
      ],
      "metadata": {
        "id": "GqqaDps6SyZ1"
      }
    },
    {
      "cell_type": "code",
      "source": [
        "from google.colab import auth as google_auth\n",
        "google_auth.authenticate_user()"
      ],
      "metadata": {
        "id": "87Pc8ELC9nBC"
      },
      "execution_count": null,
      "outputs": []
    },
    {
      "cell_type": "code",
      "source": [
        "import vertexai\n",
        "from google.cloud import aiplatform\n",
        "PROJECT_ID = \"\"  # @param {type:\"string\"}\n",
        "vertexai.init(project=PROJECT_ID, location=\"us-central1\")"
      ],
      "metadata": {
        "id": "ESVA14jf9ov3"
      },
      "execution_count": null,
      "outputs": []
    },
    {
      "cell_type": "code",
      "source": [
        "from langchain.vectorstores.neo4j_vector import Neo4jVector\n",
        "from langchain.embeddings import VertexAIEmbeddings\n",
        "from langchain.llms import VertexAI\n",
        "from langchain.prompts import PromptTemplate\n",
        "from pydantic import BaseModel\n",
        "import time\n",
        "import json"
      ],
      "metadata": {
        "id": "7-qLNVkr9sC2"
      },
      "execution_count": null,
      "outputs": []
    },
    {
      "cell_type": "markdown",
      "source": [
        "Reading players text information files"
      ],
      "metadata": {
        "id": "NzroTwNqTEAN"
      }
    },
    {
      "cell_type": "code",
      "source": [
        "import os\n",
        "\n",
        "# Path to the folder containing player information files\n",
        "folder_path = '/content/playerchunks'\n",
        "\n",
        "# Initialize an empty string to store concatenated text\n",
        "text = ''\n",
        "\n",
        "# Iterate through each file in the folder\n",
        "for filename in os.listdir(folder_path):\n",
        "    filepath = os.path.join(folder_path, filename)\n",
        "\n",
        "    # Check if the path is a file (not a subdirectory)\n",
        "    if os.path.isfile(filepath):\n",
        "        # Read the content of the file and append it to the 'text' variable\n",
        "        with open(filepath, 'r') as file:\n",
        "            text += file.read() + '\\n'\n",
        "            text+=('-')*50\n",
        "            text+='\\n'\n",
        "\n",
        "# Now, the 'text' variable contains the concatenated content with line breaks\n"
      ],
      "metadata": {
        "id": "_A1f5bnfDJWr"
      },
      "execution_count": null,
      "outputs": []
    },
    {
      "cell_type": "code",
      "source": [
        "from langchain.text_splitter import RecursiveCharacterTextSplitter\n",
        "\n",
        "text_splitter = RecursiveCharacterTextSplitter(\n",
        "    chunk_size=2000,\n",
        "    chunk_overlap=200,\n",
        "    length_function=len,\n",
        ")\n",
        "\n",
        "document_chunks = text_splitter.create_documents([text])"
      ],
      "metadata": {
        "id": "gV4jFkGID43w"
      },
      "execution_count": null,
      "outputs": []
    },
    {
      "cell_type": "code",
      "source": [
        "#create neo4j aura instance and add credentials to this\n",
        "url = \"\"\n",
        "username = \"\"\n",
        "password = \"\"\n"
      ],
      "metadata": {
        "id": "mRYJuGkv_Q5N"
      },
      "execution_count": null,
      "outputs": []
    },
    {
      "cell_type": "code",
      "source": [
        "from langchain.docstore.document import Document\n"
      ],
      "metadata": {
        "id": "n0HCtTAbBZLu"
      },
      "execution_count": null,
      "outputs": []
    },
    {
      "cell_type": "code",
      "source": [
        "# Instantiate Neo4j vector from documents\n",
        "neo4j_vector = Neo4jVector.from_documents(\n",
        "    documents=[Document(page_content=\"foo\")],\n",
        "    embedding=VertexAIEmbeddings(),\n",
        "    url=url,\n",
        "    username=username,\n",
        "    password=password,\n",
        "    database=\"neo4j\",  # neo4j by default\n",
        "    index_name=\"cric-gpt\",  # vector by default\n",
        "    node_label=\"Player\",  # Chunk by default\n",
        "    text_node_property=\"info\",  # text by default\n",
        "    embedding_node_property=\"vector\",  # embedding by default\n",
        "    create_id_index=True,  # True by default\n",
        ")"
      ],
      "metadata": {
        "id": "UgoxlUdv_x6m"
      },
      "execution_count": null,
      "outputs": []
    },
    {
      "cell_type": "code",
      "source": [
        "# Utility functions for Embeddings API with rate limiting\n",
        "def rate_limit(max_per_minute):\n",
        "    period = 60 / max_per_minute\n",
        "    print(\"Waiting.....\")\n",
        "    while True:\n",
        "        before = time.time()\n",
        "        yield\n",
        "        after = time.time()\n",
        "        elapsed = after - before\n",
        "        sleep_time = max(0, period - elapsed)\n",
        "        if sleep_time > 0:\n",
        "            print(\".\", end=\"\")\n",
        "            time.sleep(sleep_time)\n",
        "\n",
        "\n",
        "class CustomVertexAIEmbeddings(VertexAIEmbeddings, BaseModel):\n",
        "    requests_per_minute: int\n",
        "    num_instances_per_batch: int\n",
        "    # Overriding embed_documents method\n",
        "    def embed_documents(self, texts: list[str]):\n",
        "        limiter = rate_limit(self.requests_per_minute)\n",
        "        results = []\n",
        "        docs = list(texts)\n",
        "\n",
        "        while docs:\n",
        "            # Working in batches because the API accepts maximum 5\n",
        "            # documents per request to get embeddings\n",
        "            head, docs = (\n",
        "                docs[: self.num_instances_per_batch],\n",
        "                docs[self.num_instances_per_batch :],\n",
        "            )\n",
        "            chunk = self.client.get_embeddings(head)\n",
        "            results.extend(chunk)\n",
        "            next(limiter)\n",
        "        print(\"done\")\n",
        "        return [r.values for r in results]"
      ],
      "metadata": {
        "id": "ADs3vPKMtbKb"
      },
      "execution_count": null,
      "outputs": []
    },
    {
      "cell_type": "code",
      "source": [
        "def handle_quota_errors(func, *args, max_retries=10, initial_delay=5, backoff_factor=2, **kwargs):\n",
        "    retries = 0\n",
        "    delay = initial_delay\n",
        "\n",
        "    while retries < max_retries:\n",
        "        try:\n",
        "            result = func(*args, **kwargs)\n",
        "            return result  # Return the result if the function executes successfully\n",
        "        except Exception as e:  # Replace with the actual exception type you expect\n",
        "            print(f\"Quota exceeded: {e}\")\n",
        "            retries += 1\n",
        "            if retries < max_retries:\n",
        "                wait = delay\n",
        "                print(f\"Retrying in {wait} seconds...\")\n",
        "                time.sleep(wait)\n",
        "                delay *= backoff_factor\n",
        "            else:\n",
        "                print(\"Max retries reached. Function failed.\")\n",
        "                raise"
      ],
      "metadata": {
        "id": "YWwGQNHJBIfp"
      },
      "execution_count": null,
      "outputs": []
    },
    {
      "cell_type": "code",
      "source": [
        "EMBEDDING_QPM = 20\n",
        "EMBEDDING_NUM_BATCH = 5\n",
        "embeddings = CustomVertexAIEmbeddings(\n",
        "    requests_per_minute=EMBEDDING_QPM,\n",
        "    num_instances_per_batch=EMBEDDING_NUM_BATCH,\n",
        ")"
      ],
      "metadata": {
        "id": "beOuk7QEBKor"
      },
      "execution_count": null,
      "outputs": []
    },
    {
      "cell_type": "code",
      "source": [
        "#This will generate embeddings of text chunks and it will create nodes in neo4j db\n",
        "for index, doc in enumerate(document_chunks):\n",
        "  embedding = handle_quota_errors(embeddings.embed_documents, [doc.page_content])\n",
        "  neo4j_vector.add_embeddings([doc.page_content],embedding)"
      ],
      "metadata": {
        "id": "0j94iWn8BNjQ"
      },
      "execution_count": null,
      "outputs": []
    },
    {
      "cell_type": "markdown",
      "source": [
        "This is required if you wanted to create api , as this is referencing to the neo4j index we created earlier"
      ],
      "metadata": {
        "id": "XT8aPS5zUxYn"
      }
    },
    {
      "cell_type": "code",
      "source": [
        "neo4j_vector = Neo4jVector.from_existing_index(\n",
        "    VertexAIEmbeddings(),\n",
        "    url=url,\n",
        "    username=username,\n",
        "    password=password,\n",
        "    index_name=\"cric-gpt\",\n",
        "    text_node_property=\"info\",  # Need to define if it is not default\n",
        ")"
      ],
      "metadata": {
        "id": "HbqVqtuIGrgX"
      },
      "execution_count": null,
      "outputs": []
    },
    {
      "cell_type": "code",
      "source": [
        "from langchain.chains import ConversationalRetrievalChain\n",
        "from langchain.memory import ConversationBufferMemory\n",
        "from langchain import PromptTemplate\n",
        "from langchain.chains import RetrievalQA\n"
      ],
      "metadata": {
        "id": "xPkwNrIXJbNG"
      },
      "execution_count": null,
      "outputs": []
    },
    {
      "cell_type": "markdown",
      "source": [
        "Prompt-template"
      ],
      "metadata": {
        "id": "izPfW0tOUX_L"
      }
    },
    {
      "cell_type": "code",
      "source": [
        "template = \"\"\"\n",
        "You are a helpfull cricket coach assistant which helps in strategies and other decision of palyers, you should only give answers to the question related to cricket only and if other irrelevant questions to cricket  asked then clearly tell them i am only responsible for assisting cricket related decision or information\n",
        "you should only give answers in english language\n",
        "------\n",
        "<ctx>\n",
        "{context}\n",
        "</ctx>\n",
        "------\n",
        "<hs>\n",
        "{history}\n",
        "</hs>\n",
        "------\n",
        "{question}\n",
        "Answer:\n",
        "\"\"\"\n",
        "prompt = PromptTemplate(\n",
        "    input_variables=[\"history\", \"context\", \"question\"],\n",
        "    template=template,\n",
        ")"
      ],
      "metadata": {
        "id": "RvEZEfNTIVb_"
      },
      "execution_count": null,
      "outputs": []
    },
    {
      "cell_type": "markdown",
      "source": [
        "Creating Retrieval chain"
      ],
      "metadata": {
        "id": "LBym9wLgUUhI"
      }
    },
    {
      "cell_type": "code",
      "source": [
        "qa = RetrievalQA.from_chain_type(\n",
        "    llm=VertexAI(),\n",
        "    chain_type='stuff',\n",
        "    retriever=neo4j_vector.as_retriever(search_kwargs={'k': 6}),\n",
        "    verbose=True,\n",
        "    chain_type_kwargs={\n",
        "        \"verbose\": True,\n",
        "        \"prompt\": prompt,\n",
        "        \"memory\": ConversationBufferMemory(\n",
        "            memory_key=\"history\",\n",
        "            input_key=\"question\"),\n",
        "    }\n",
        ")"
      ],
      "metadata": {
        "id": "mmIsEvQVIHVC"
      },
      "execution_count": null,
      "outputs": []
    },
    {
      "cell_type": "markdown",
      "source": [
        "Our RAG based LLM is ready"
      ],
      "metadata": {
        "id": "aOV_ef4gUQKN"
      }
    },
    {
      "cell_type": "code",
      "source": [
        "query = input()\n",
        "print(\"-\"*50)\n",
        "qa.run(query)"
      ],
      "metadata": {
        "id": "PUF4XBcPE6D9"
      },
      "execution_count": null,
      "outputs": []
    }
  ]
}